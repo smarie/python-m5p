{
  "cells": [
    {
      "cell_type": "code",
      "execution_count": null,
      "metadata": {
        "collapsed": false
      },
      "outputs": [],
      "source": [
        "%matplotlib inline"
      ]
    },
    {
      "cell_type": "markdown",
      "metadata": {},
      "source": [
        "\nPiecewise-Linear artificial example\n===================================\n\nThis demo is reproducing the results from the \"Artificial Dataset\" in the M5\npaper, named `pw-linear` in the M5' paper.\n"
      ]
    },
    {
      "cell_type": "markdown",
      "metadata": {},
      "source": [
        "Import the necessary modules and libraries\n\n"
      ]
    },
    {
      "cell_type": "code",
      "execution_count": null,
      "metadata": {
        "collapsed": false
      },
      "outputs": [],
      "source": [
        "import numpy as np\nimport pandas as pd\nimport seaborn as sns\n\nfrom sklearn.model_selection import cross_val_score\nfrom sklearn.tree import DecisionTreeRegressor, export_text\nfrom m5py import M5Prime"
      ]
    },
    {
      "cell_type": "markdown",
      "metadata": {},
      "source": [
        "Create a random dataset\n\n"
      ]
    },
    {
      "cell_type": "code",
      "execution_count": null,
      "metadata": {
        "collapsed": false
      },
      "outputs": [],
      "source": [
        "rng = np.random.RandomState(1)\nnb_samples = 200\n\nX1 = rng.randint(0, 2, nb_samples) * 2 - 1\nX2 = rng.randint(-1, 2, nb_samples)\nX3 = rng.randint(-1, 2, nb_samples)\nX4 = rng.randint(-1, 2, nb_samples)\nX5 = rng.randint(-1, 2, nb_samples)\nX6 = rng.randint(-1, 2, nb_samples)\nX7 = rng.randint(-1, 2, nb_samples)\nX8 = rng.randint(-1, 2, nb_samples)\nX9 = rng.randint(-1, 2, nb_samples)\nX10 = rng.randint(-1, 2, nb_samples)\n\nfeature_names = [\"X%i\" % i for i in range(1, 11)]\nX = np.c_[X1, X2, X3, X4, X5, X6, X7, X8, X9, X10]\n\ny = np.where(\n    X1 > 0,\n    3 + 3 * X2 + 2 * X3 + X4,\n    -3 + 3 * X5 + 2 * X6 + X7\n) + rng.normal(loc=0., scale=2 ** 0.5, size=nb_samples)"
      ]
    },
    {
      "cell_type": "markdown",
      "metadata": {},
      "source": [
        "Define regression models and evaluate them on 10-fold CV\n\n"
      ]
    },
    {
      "cell_type": "code",
      "execution_count": null,
      "metadata": {
        "collapsed": false
      },
      "outputs": [],
      "source": [
        "regr_0 = DecisionTreeRegressor()\nregr_0_label = \"Tree 0\"\nregr_0_scores = cross_val_score(regr_0, X, y, cv=10)\n\nregr_1 = M5Prime(use_smoothing=False, use_pruning=False)\nregr_1_label = \"Tree 1\"\nregr_1_scores = cross_val_score(regr_1, X, y, cv=10)\n\nregr_2 = M5Prime(use_smoothing=False)\nregr_2_label = \"Tree 2\"\nregr_2_scores = cross_val_score(regr_2, X, y, cv=10)\n\nregr_3 = M5Prime(use_smoothing=True)\nregr_3_label = \"Tree 3\"\nregr_3_scores = cross_val_score(regr_3, X, y, cv=10)\n\nscores = np.c_[regr_0_scores, regr_1_scores, regr_2_scores, regr_3_scores]\navgs = scores.mean(axis=0)\nstds = scores.std(axis=0)\nlabels = [regr_0_label, regr_1_label, regr_2_label, regr_3_label]\n\nscores_df = pd.DataFrame(data=scores, columns=labels)\nsns.violinplot(data=scores_df)"
      ]
    },
    {
      "cell_type": "markdown",
      "metadata": {},
      "source": [
        "Fit the final models and print the trees:\n\n\n"
      ]
    },
    {
      "cell_type": "code",
      "execution_count": null,
      "metadata": {
        "collapsed": false
      },
      "outputs": [],
      "source": [
        "regr_0.fit(X, y)\nprint(\"\\n----- %s\" % regr_0_label)\nprint(export_text(regr_0, feature_names=feature_names))"
      ]
    },
    {
      "cell_type": "code",
      "execution_count": null,
      "metadata": {
        "collapsed": false
      },
      "outputs": [],
      "source": [
        "regr_1.fit(X, y)\nprint(\"\\n----- %s\" % regr_1_label)\nprint(regr_1.as_pretty_text(feature_names=feature_names))"
      ]
    },
    {
      "cell_type": "code",
      "execution_count": null,
      "metadata": {
        "collapsed": false
      },
      "outputs": [],
      "source": [
        "regr_2.fit(X, y)\nprint(\"\\n----- %s\" % regr_2_label)\nprint(regr_2.as_pretty_text(feature_names=feature_names))"
      ]
    },
    {
      "cell_type": "code",
      "execution_count": null,
      "metadata": {
        "collapsed": false
      },
      "outputs": [],
      "source": [
        "regr_3.fit(X, y)\nprint(\"\\n----- %s\" % regr_3_label)\nprint(regr_3.as_pretty_text(feature_names=feature_names))"
      ]
    }
  ],
  "metadata": {
    "kernelspec": {
      "display_name": "Python 3",
      "language": "python",
      "name": "python3"
    },
    "language_info": {
      "codemirror_mode": {
        "name": "ipython",
        "version": 3
      },
      "file_extension": ".py",
      "mimetype": "text/x-python",
      "name": "python",
      "nbconvert_exporter": "python",
      "pygments_lexer": "ipython3",
      "version": "3.8.18"
    }
  },
  "nbformat": 4,
  "nbformat_minor": 0
}